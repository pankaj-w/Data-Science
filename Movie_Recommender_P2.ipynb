{
  "nbformat": 4,
  "nbformat_minor": 0,
  "metadata": {
    "colab": {
      "provenance": []
    },
    "kernelspec": {
      "name": "python3",
      "display_name": "Python 3"
    },
    "language_info": {
      "name": "python"
    }
  },
  "cells": [
    {
      "cell_type": "code",
      "execution_count": 1,
      "metadata": {
        "id": "5pcjdOt4ms4I"
      },
      "outputs": [],
      "source": [
        "import pandas as pd  # Importing Pandas for data manipulation\n",
        "import numpy as np  # Importing NumPy for numerical operations\n",
        "import matplotlib.pyplot as plt  # Importing Matplotlib for data visualization"
      ]
    },
    {
      "cell_type": "code",
      "source": [
        "# Define the path to the dataset\n",
        "dataset_path = '/content/netflix_titles.csv'\n",
        "\n",
        "# Load the dataset using Pandas\n",
        "movie_dataset = pd.read_csv(dataset_path)\n",
        "df = movie_dataset.copy()\n",
        "\n",
        "# Display the first few rows of the dataset\n",
        "df.head()"
      ],
      "metadata": {
        "colab": {
          "base_uri": "https://localhost:8080/",
          "height": 406
        },
        "id": "h4sX3qWenfnl",
        "outputId": "d5e2c3e2-49ee-422f-b50a-8f5825e13c94"
      },
      "execution_count": 2,
      "outputs": [
        {
          "output_type": "execute_result",
          "data": {
            "text/plain": [
              "  show_id     type                  title         director  \\\n",
              "0      s1    Movie   Dick Johnson Is Dead  Kirsten Johnson   \n",
              "1      s2  TV Show          Blood & Water              NaN   \n",
              "2      s3  TV Show              Ganglands  Julien Leclercq   \n",
              "3      s4  TV Show  Jailbirds New Orleans              NaN   \n",
              "4      s5  TV Show           Kota Factory              NaN   \n",
              "\n",
              "                                                cast        country  \\\n",
              "0                                                NaN  United States   \n",
              "1  Ama Qamata, Khosi Ngema, Gail Mabalane, Thaban...   South Africa   \n",
              "2  Sami Bouajila, Tracy Gotoas, Samuel Jouy, Nabi...            NaN   \n",
              "3                                                NaN            NaN   \n",
              "4  Mayur More, Jitendra Kumar, Ranjan Raj, Alam K...          India   \n",
              "\n",
              "           date_added  release_year rating   duration  \\\n",
              "0  September 25, 2021          2020  PG-13     90 min   \n",
              "1  September 24, 2021          2021  TV-MA  2 Seasons   \n",
              "2  September 24, 2021          2021  TV-MA   1 Season   \n",
              "3  September 24, 2021          2021  TV-MA   1 Season   \n",
              "4  September 24, 2021          2021  TV-MA  2 Seasons   \n",
              "\n",
              "                                           listed_in  \\\n",
              "0                                      Documentaries   \n",
              "1    International TV Shows, TV Dramas, TV Mysteries   \n",
              "2  Crime TV Shows, International TV Shows, TV Act...   \n",
              "3                             Docuseries, Reality TV   \n",
              "4  International TV Shows, Romantic TV Shows, TV ...   \n",
              "\n",
              "                                         description  \n",
              "0  As her father nears the end of his life, filmm...  \n",
              "1  After crossing paths at a party, a Cape Town t...  \n",
              "2  To protect his family from a powerful drug lor...  \n",
              "3  Feuds, flirtations and toilet talk go down amo...  \n",
              "4  In a city of coaching centers known to train I...  "
            ],
            "text/html": [
              "\n",
              "\n",
              "  <div id=\"df-b677c942-19d2-4fcd-a463-9cc4dcbee48f\">\n",
              "    <div class=\"colab-df-container\">\n",
              "      <div>\n",
              "<style scoped>\n",
              "    .dataframe tbody tr th:only-of-type {\n",
              "        vertical-align: middle;\n",
              "    }\n",
              "\n",
              "    .dataframe tbody tr th {\n",
              "        vertical-align: top;\n",
              "    }\n",
              "\n",
              "    .dataframe thead th {\n",
              "        text-align: right;\n",
              "    }\n",
              "</style>\n",
              "<table border=\"1\" class=\"dataframe\">\n",
              "  <thead>\n",
              "    <tr style=\"text-align: right;\">\n",
              "      <th></th>\n",
              "      <th>show_id</th>\n",
              "      <th>type</th>\n",
              "      <th>title</th>\n",
              "      <th>director</th>\n",
              "      <th>cast</th>\n",
              "      <th>country</th>\n",
              "      <th>date_added</th>\n",
              "      <th>release_year</th>\n",
              "      <th>rating</th>\n",
              "      <th>duration</th>\n",
              "      <th>listed_in</th>\n",
              "      <th>description</th>\n",
              "    </tr>\n",
              "  </thead>\n",
              "  <tbody>\n",
              "    <tr>\n",
              "      <th>0</th>\n",
              "      <td>s1</td>\n",
              "      <td>Movie</td>\n",
              "      <td>Dick Johnson Is Dead</td>\n",
              "      <td>Kirsten Johnson</td>\n",
              "      <td>NaN</td>\n",
              "      <td>United States</td>\n",
              "      <td>September 25, 2021</td>\n",
              "      <td>2020</td>\n",
              "      <td>PG-13</td>\n",
              "      <td>90 min</td>\n",
              "      <td>Documentaries</td>\n",
              "      <td>As her father nears the end of his life, filmm...</td>\n",
              "    </tr>\n",
              "    <tr>\n",
              "      <th>1</th>\n",
              "      <td>s2</td>\n",
              "      <td>TV Show</td>\n",
              "      <td>Blood &amp; Water</td>\n",
              "      <td>NaN</td>\n",
              "      <td>Ama Qamata, Khosi Ngema, Gail Mabalane, Thaban...</td>\n",
              "      <td>South Africa</td>\n",
              "      <td>September 24, 2021</td>\n",
              "      <td>2021</td>\n",
              "      <td>TV-MA</td>\n",
              "      <td>2 Seasons</td>\n",
              "      <td>International TV Shows, TV Dramas, TV Mysteries</td>\n",
              "      <td>After crossing paths at a party, a Cape Town t...</td>\n",
              "    </tr>\n",
              "    <tr>\n",
              "      <th>2</th>\n",
              "      <td>s3</td>\n",
              "      <td>TV Show</td>\n",
              "      <td>Ganglands</td>\n",
              "      <td>Julien Leclercq</td>\n",
              "      <td>Sami Bouajila, Tracy Gotoas, Samuel Jouy, Nabi...</td>\n",
              "      <td>NaN</td>\n",
              "      <td>September 24, 2021</td>\n",
              "      <td>2021</td>\n",
              "      <td>TV-MA</td>\n",
              "      <td>1 Season</td>\n",
              "      <td>Crime TV Shows, International TV Shows, TV Act...</td>\n",
              "      <td>To protect his family from a powerful drug lor...</td>\n",
              "    </tr>\n",
              "    <tr>\n",
              "      <th>3</th>\n",
              "      <td>s4</td>\n",
              "      <td>TV Show</td>\n",
              "      <td>Jailbirds New Orleans</td>\n",
              "      <td>NaN</td>\n",
              "      <td>NaN</td>\n",
              "      <td>NaN</td>\n",
              "      <td>September 24, 2021</td>\n",
              "      <td>2021</td>\n",
              "      <td>TV-MA</td>\n",
              "      <td>1 Season</td>\n",
              "      <td>Docuseries, Reality TV</td>\n",
              "      <td>Feuds, flirtations and toilet talk go down amo...</td>\n",
              "    </tr>\n",
              "    <tr>\n",
              "      <th>4</th>\n",
              "      <td>s5</td>\n",
              "      <td>TV Show</td>\n",
              "      <td>Kota Factory</td>\n",
              "      <td>NaN</td>\n",
              "      <td>Mayur More, Jitendra Kumar, Ranjan Raj, Alam K...</td>\n",
              "      <td>India</td>\n",
              "      <td>September 24, 2021</td>\n",
              "      <td>2021</td>\n",
              "      <td>TV-MA</td>\n",
              "      <td>2 Seasons</td>\n",
              "      <td>International TV Shows, Romantic TV Shows, TV ...</td>\n",
              "      <td>In a city of coaching centers known to train I...</td>\n",
              "    </tr>\n",
              "  </tbody>\n",
              "</table>\n",
              "</div>\n",
              "      <button class=\"colab-df-convert\" onclick=\"convertToInteractive('df-b677c942-19d2-4fcd-a463-9cc4dcbee48f')\"\n",
              "              title=\"Convert this dataframe to an interactive table.\"\n",
              "              style=\"display:none;\">\n",
              "\n",
              "  <svg xmlns=\"http://www.w3.org/2000/svg\" height=\"24px\"viewBox=\"0 0 24 24\"\n",
              "       width=\"24px\">\n",
              "    <path d=\"M0 0h24v24H0V0z\" fill=\"none\"/>\n",
              "    <path d=\"M18.56 5.44l.94 2.06.94-2.06 2.06-.94-2.06-.94-.94-2.06-.94 2.06-2.06.94zm-11 1L8.5 8.5l.94-2.06 2.06-.94-2.06-.94L8.5 2.5l-.94 2.06-2.06.94zm10 10l.94 2.06.94-2.06 2.06-.94-2.06-.94-.94-2.06-.94 2.06-2.06.94z\"/><path d=\"M17.41 7.96l-1.37-1.37c-.4-.4-.92-.59-1.43-.59-.52 0-1.04.2-1.43.59L10.3 9.45l-7.72 7.72c-.78.78-.78 2.05 0 2.83L4 21.41c.39.39.9.59 1.41.59.51 0 1.02-.2 1.41-.59l7.78-7.78 2.81-2.81c.8-.78.8-2.07 0-2.86zM5.41 20L4 18.59l7.72-7.72 1.47 1.35L5.41 20z\"/>\n",
              "  </svg>\n",
              "      </button>\n",
              "\n",
              "\n",
              "\n",
              "    <div id=\"df-71f6a83f-a449-457b-b83d-8e765d918ddf\">\n",
              "      <button class=\"colab-df-quickchart\" onclick=\"quickchart('df-71f6a83f-a449-457b-b83d-8e765d918ddf')\"\n",
              "              title=\"Suggest charts.\"\n",
              "              style=\"display:none;\">\n",
              "\n",
              "<svg xmlns=\"http://www.w3.org/2000/svg\" height=\"24px\"viewBox=\"0 0 24 24\"\n",
              "     width=\"24px\">\n",
              "    <g>\n",
              "        <path d=\"M19 3H5c-1.1 0-2 .9-2 2v14c0 1.1.9 2 2 2h14c1.1 0 2-.9 2-2V5c0-1.1-.9-2-2-2zM9 17H7v-7h2v7zm4 0h-2V7h2v10zm4 0h-2v-4h2v4z\"/>\n",
              "    </g>\n",
              "</svg>\n",
              "      </button>\n",
              "    </div>\n",
              "\n",
              "<style>\n",
              "  .colab-df-quickchart {\n",
              "    background-color: #E8F0FE;\n",
              "    border: none;\n",
              "    border-radius: 50%;\n",
              "    cursor: pointer;\n",
              "    display: none;\n",
              "    fill: #1967D2;\n",
              "    height: 32px;\n",
              "    padding: 0 0 0 0;\n",
              "    width: 32px;\n",
              "  }\n",
              "\n",
              "  .colab-df-quickchart:hover {\n",
              "    background-color: #E2EBFA;\n",
              "    box-shadow: 0px 1px 2px rgba(60, 64, 67, 0.3), 0px 1px 3px 1px rgba(60, 64, 67, 0.15);\n",
              "    fill: #174EA6;\n",
              "  }\n",
              "\n",
              "  [theme=dark] .colab-df-quickchart {\n",
              "    background-color: #3B4455;\n",
              "    fill: #D2E3FC;\n",
              "  }\n",
              "\n",
              "  [theme=dark] .colab-df-quickchart:hover {\n",
              "    background-color: #434B5C;\n",
              "    box-shadow: 0px 1px 3px 1px rgba(0, 0, 0, 0.15);\n",
              "    filter: drop-shadow(0px 1px 2px rgba(0, 0, 0, 0.3));\n",
              "    fill: #FFFFFF;\n",
              "  }\n",
              "</style>\n",
              "\n",
              "    <script>\n",
              "      async function quickchart(key) {\n",
              "        const containerElement = document.querySelector('#' + key);\n",
              "        const charts = await google.colab.kernel.invokeFunction(\n",
              "            'suggestCharts', [key], {});\n",
              "      }\n",
              "    </script>\n",
              "\n",
              "      <script>\n",
              "\n",
              "function displayQuickchartButton(domScope) {\n",
              "  let quickchartButtonEl =\n",
              "    domScope.querySelector('#df-71f6a83f-a449-457b-b83d-8e765d918ddf button.colab-df-quickchart');\n",
              "  quickchartButtonEl.style.display =\n",
              "    google.colab.kernel.accessAllowed ? 'block' : 'none';\n",
              "}\n",
              "\n",
              "        displayQuickchartButton(document);\n",
              "      </script>\n",
              "      <style>\n",
              "    .colab-df-container {\n",
              "      display:flex;\n",
              "      flex-wrap:wrap;\n",
              "      gap: 12px;\n",
              "    }\n",
              "\n",
              "    .colab-df-convert {\n",
              "      background-color: #E8F0FE;\n",
              "      border: none;\n",
              "      border-radius: 50%;\n",
              "      cursor: pointer;\n",
              "      display: none;\n",
              "      fill: #1967D2;\n",
              "      height: 32px;\n",
              "      padding: 0 0 0 0;\n",
              "      width: 32px;\n",
              "    }\n",
              "\n",
              "    .colab-df-convert:hover {\n",
              "      background-color: #E2EBFA;\n",
              "      box-shadow: 0px 1px 2px rgba(60, 64, 67, 0.3), 0px 1px 3px 1px rgba(60, 64, 67, 0.15);\n",
              "      fill: #174EA6;\n",
              "    }\n",
              "\n",
              "    [theme=dark] .colab-df-convert {\n",
              "      background-color: #3B4455;\n",
              "      fill: #D2E3FC;\n",
              "    }\n",
              "\n",
              "    [theme=dark] .colab-df-convert:hover {\n",
              "      background-color: #434B5C;\n",
              "      box-shadow: 0px 1px 3px 1px rgba(0, 0, 0, 0.15);\n",
              "      filter: drop-shadow(0px 1px 2px rgba(0, 0, 0, 0.3));\n",
              "      fill: #FFFFFF;\n",
              "    }\n",
              "  </style>\n",
              "\n",
              "      <script>\n",
              "        const buttonEl =\n",
              "          document.querySelector('#df-b677c942-19d2-4fcd-a463-9cc4dcbee48f button.colab-df-convert');\n",
              "        buttonEl.style.display =\n",
              "          google.colab.kernel.accessAllowed ? 'block' : 'none';\n",
              "\n",
              "        async function convertToInteractive(key) {\n",
              "          const element = document.querySelector('#df-b677c942-19d2-4fcd-a463-9cc4dcbee48f');\n",
              "          const dataTable =\n",
              "            await google.colab.kernel.invokeFunction('convertToInteractive',\n",
              "                                                     [key], {});\n",
              "          if (!dataTable) return;\n",
              "\n",
              "          const docLinkHtml = 'Like what you see? Visit the ' +\n",
              "            '<a target=\"_blank\" href=https://colab.research.google.com/notebooks/data_table.ipynb>data table notebook</a>'\n",
              "            + ' to learn more about interactive tables.';\n",
              "          element.innerHTML = '';\n",
              "          dataTable['output_type'] = 'display_data';\n",
              "          await google.colab.output.renderOutput(dataTable, element);\n",
              "          const docLink = document.createElement('div');\n",
              "          docLink.innerHTML = docLinkHtml;\n",
              "          element.appendChild(docLink);\n",
              "        }\n",
              "      </script>\n",
              "    </div>\n",
              "  </div>\n"
            ]
          },
          "metadata": {},
          "execution_count": 2
        }
      ]
    },
    {
      "cell_type": "code",
      "source": [
        "# Display the shape of the dataframe (rows, columns)\n",
        "print(\"Shape of the dataframe:\", df.shape)\n",
        "\n",
        "# Check data types of columns\n",
        "print(\"Data types of columns:\\n\", df.dtypes)"
      ],
      "metadata": {
        "colab": {
          "base_uri": "https://localhost:8080/"
        },
        "id": "v0duOD9enffJ",
        "outputId": "ca7f2de2-4cb9-4896-f5aa-0b913f1bc365"
      },
      "execution_count": 3,
      "outputs": [
        {
          "output_type": "stream",
          "name": "stdout",
          "text": [
            "Shape of the dataframe: (8807, 12)\n",
            "Data types of columns:\n",
            " show_id         object\n",
            "type            object\n",
            "title           object\n",
            "director        object\n",
            "cast            object\n",
            "country         object\n",
            "date_added      object\n",
            "release_year     int64\n",
            "rating          object\n",
            "duration        object\n",
            "listed_in       object\n",
            "description     object\n",
            "dtype: object\n"
          ]
        }
      ]
    },
    {
      "cell_type": "code",
      "source": [
        "# Dropping unneeded features\n",
        "df = df.drop([\"show_id\", \"date_added\"], axis=1) # Dropping unnecessary columns\n",
        "df.head()"
      ],
      "metadata": {
        "colab": {
          "base_uri": "https://localhost:8080/",
          "height": 337
        },
        "id": "guHdZMJenfdY",
        "outputId": "6d6381dd-2501-4480-d99e-e912aa73ef43"
      },
      "execution_count": 4,
      "outputs": [
        {
          "output_type": "execute_result",
          "data": {
            "text/plain": [
              "      type                  title         director  \\\n",
              "0    Movie   Dick Johnson Is Dead  Kirsten Johnson   \n",
              "1  TV Show          Blood & Water              NaN   \n",
              "2  TV Show              Ganglands  Julien Leclercq   \n",
              "3  TV Show  Jailbirds New Orleans              NaN   \n",
              "4  TV Show           Kota Factory              NaN   \n",
              "\n",
              "                                                cast        country  \\\n",
              "0                                                NaN  United States   \n",
              "1  Ama Qamata, Khosi Ngema, Gail Mabalane, Thaban...   South Africa   \n",
              "2  Sami Bouajila, Tracy Gotoas, Samuel Jouy, Nabi...            NaN   \n",
              "3                                                NaN            NaN   \n",
              "4  Mayur More, Jitendra Kumar, Ranjan Raj, Alam K...          India   \n",
              "\n",
              "   release_year rating   duration  \\\n",
              "0          2020  PG-13     90 min   \n",
              "1          2021  TV-MA  2 Seasons   \n",
              "2          2021  TV-MA   1 Season   \n",
              "3          2021  TV-MA   1 Season   \n",
              "4          2021  TV-MA  2 Seasons   \n",
              "\n",
              "                                           listed_in  \\\n",
              "0                                      Documentaries   \n",
              "1    International TV Shows, TV Dramas, TV Mysteries   \n",
              "2  Crime TV Shows, International TV Shows, TV Act...   \n",
              "3                             Docuseries, Reality TV   \n",
              "4  International TV Shows, Romantic TV Shows, TV ...   \n",
              "\n",
              "                                         description  \n",
              "0  As her father nears the end of his life, filmm...  \n",
              "1  After crossing paths at a party, a Cape Town t...  \n",
              "2  To protect his family from a powerful drug lor...  \n",
              "3  Feuds, flirtations and toilet talk go down amo...  \n",
              "4  In a city of coaching centers known to train I...  "
            ],
            "text/html": [
              "\n",
              "\n",
              "  <div id=\"df-7617b2e4-1088-4130-bae4-93586d921423\">\n",
              "    <div class=\"colab-df-container\">\n",
              "      <div>\n",
              "<style scoped>\n",
              "    .dataframe tbody tr th:only-of-type {\n",
              "        vertical-align: middle;\n",
              "    }\n",
              "\n",
              "    .dataframe tbody tr th {\n",
              "        vertical-align: top;\n",
              "    }\n",
              "\n",
              "    .dataframe thead th {\n",
              "        text-align: right;\n",
              "    }\n",
              "</style>\n",
              "<table border=\"1\" class=\"dataframe\">\n",
              "  <thead>\n",
              "    <tr style=\"text-align: right;\">\n",
              "      <th></th>\n",
              "      <th>type</th>\n",
              "      <th>title</th>\n",
              "      <th>director</th>\n",
              "      <th>cast</th>\n",
              "      <th>country</th>\n",
              "      <th>release_year</th>\n",
              "      <th>rating</th>\n",
              "      <th>duration</th>\n",
              "      <th>listed_in</th>\n",
              "      <th>description</th>\n",
              "    </tr>\n",
              "  </thead>\n",
              "  <tbody>\n",
              "    <tr>\n",
              "      <th>0</th>\n",
              "      <td>Movie</td>\n",
              "      <td>Dick Johnson Is Dead</td>\n",
              "      <td>Kirsten Johnson</td>\n",
              "      <td>NaN</td>\n",
              "      <td>United States</td>\n",
              "      <td>2020</td>\n",
              "      <td>PG-13</td>\n",
              "      <td>90 min</td>\n",
              "      <td>Documentaries</td>\n",
              "      <td>As her father nears the end of his life, filmm...</td>\n",
              "    </tr>\n",
              "    <tr>\n",
              "      <th>1</th>\n",
              "      <td>TV Show</td>\n",
              "      <td>Blood &amp; Water</td>\n",
              "      <td>NaN</td>\n",
              "      <td>Ama Qamata, Khosi Ngema, Gail Mabalane, Thaban...</td>\n",
              "      <td>South Africa</td>\n",
              "      <td>2021</td>\n",
              "      <td>TV-MA</td>\n",
              "      <td>2 Seasons</td>\n",
              "      <td>International TV Shows, TV Dramas, TV Mysteries</td>\n",
              "      <td>After crossing paths at a party, a Cape Town t...</td>\n",
              "    </tr>\n",
              "    <tr>\n",
              "      <th>2</th>\n",
              "      <td>TV Show</td>\n",
              "      <td>Ganglands</td>\n",
              "      <td>Julien Leclercq</td>\n",
              "      <td>Sami Bouajila, Tracy Gotoas, Samuel Jouy, Nabi...</td>\n",
              "      <td>NaN</td>\n",
              "      <td>2021</td>\n",
              "      <td>TV-MA</td>\n",
              "      <td>1 Season</td>\n",
              "      <td>Crime TV Shows, International TV Shows, TV Act...</td>\n",
              "      <td>To protect his family from a powerful drug lor...</td>\n",
              "    </tr>\n",
              "    <tr>\n",
              "      <th>3</th>\n",
              "      <td>TV Show</td>\n",
              "      <td>Jailbirds New Orleans</td>\n",
              "      <td>NaN</td>\n",
              "      <td>NaN</td>\n",
              "      <td>NaN</td>\n",
              "      <td>2021</td>\n",
              "      <td>TV-MA</td>\n",
              "      <td>1 Season</td>\n",
              "      <td>Docuseries, Reality TV</td>\n",
              "      <td>Feuds, flirtations and toilet talk go down amo...</td>\n",
              "    </tr>\n",
              "    <tr>\n",
              "      <th>4</th>\n",
              "      <td>TV Show</td>\n",
              "      <td>Kota Factory</td>\n",
              "      <td>NaN</td>\n",
              "      <td>Mayur More, Jitendra Kumar, Ranjan Raj, Alam K...</td>\n",
              "      <td>India</td>\n",
              "      <td>2021</td>\n",
              "      <td>TV-MA</td>\n",
              "      <td>2 Seasons</td>\n",
              "      <td>International TV Shows, Romantic TV Shows, TV ...</td>\n",
              "      <td>In a city of coaching centers known to train I...</td>\n",
              "    </tr>\n",
              "  </tbody>\n",
              "</table>\n",
              "</div>\n",
              "      <button class=\"colab-df-convert\" onclick=\"convertToInteractive('df-7617b2e4-1088-4130-bae4-93586d921423')\"\n",
              "              title=\"Convert this dataframe to an interactive table.\"\n",
              "              style=\"display:none;\">\n",
              "\n",
              "  <svg xmlns=\"http://www.w3.org/2000/svg\" height=\"24px\"viewBox=\"0 0 24 24\"\n",
              "       width=\"24px\">\n",
              "    <path d=\"M0 0h24v24H0V0z\" fill=\"none\"/>\n",
              "    <path d=\"M18.56 5.44l.94 2.06.94-2.06 2.06-.94-2.06-.94-.94-2.06-.94 2.06-2.06.94zm-11 1L8.5 8.5l.94-2.06 2.06-.94-2.06-.94L8.5 2.5l-.94 2.06-2.06.94zm10 10l.94 2.06.94-2.06 2.06-.94-2.06-.94-.94-2.06-.94 2.06-2.06.94z\"/><path d=\"M17.41 7.96l-1.37-1.37c-.4-.4-.92-.59-1.43-.59-.52 0-1.04.2-1.43.59L10.3 9.45l-7.72 7.72c-.78.78-.78 2.05 0 2.83L4 21.41c.39.39.9.59 1.41.59.51 0 1.02-.2 1.41-.59l7.78-7.78 2.81-2.81c.8-.78.8-2.07 0-2.86zM5.41 20L4 18.59l7.72-7.72 1.47 1.35L5.41 20z\"/>\n",
              "  </svg>\n",
              "      </button>\n",
              "\n",
              "\n",
              "\n",
              "    <div id=\"df-c255bde6-ad6c-4caa-927e-c7dbe40ffb90\">\n",
              "      <button class=\"colab-df-quickchart\" onclick=\"quickchart('df-c255bde6-ad6c-4caa-927e-c7dbe40ffb90')\"\n",
              "              title=\"Suggest charts.\"\n",
              "              style=\"display:none;\">\n",
              "\n",
              "<svg xmlns=\"http://www.w3.org/2000/svg\" height=\"24px\"viewBox=\"0 0 24 24\"\n",
              "     width=\"24px\">\n",
              "    <g>\n",
              "        <path d=\"M19 3H5c-1.1 0-2 .9-2 2v14c0 1.1.9 2 2 2h14c1.1 0 2-.9 2-2V5c0-1.1-.9-2-2-2zM9 17H7v-7h2v7zm4 0h-2V7h2v10zm4 0h-2v-4h2v4z\"/>\n",
              "    </g>\n",
              "</svg>\n",
              "      </button>\n",
              "    </div>\n",
              "\n",
              "<style>\n",
              "  .colab-df-quickchart {\n",
              "    background-color: #E8F0FE;\n",
              "    border: none;\n",
              "    border-radius: 50%;\n",
              "    cursor: pointer;\n",
              "    display: none;\n",
              "    fill: #1967D2;\n",
              "    height: 32px;\n",
              "    padding: 0 0 0 0;\n",
              "    width: 32px;\n",
              "  }\n",
              "\n",
              "  .colab-df-quickchart:hover {\n",
              "    background-color: #E2EBFA;\n",
              "    box-shadow: 0px 1px 2px rgba(60, 64, 67, 0.3), 0px 1px 3px 1px rgba(60, 64, 67, 0.15);\n",
              "    fill: #174EA6;\n",
              "  }\n",
              "\n",
              "  [theme=dark] .colab-df-quickchart {\n",
              "    background-color: #3B4455;\n",
              "    fill: #D2E3FC;\n",
              "  }\n",
              "\n",
              "  [theme=dark] .colab-df-quickchart:hover {\n",
              "    background-color: #434B5C;\n",
              "    box-shadow: 0px 1px 3px 1px rgba(0, 0, 0, 0.15);\n",
              "    filter: drop-shadow(0px 1px 2px rgba(0, 0, 0, 0.3));\n",
              "    fill: #FFFFFF;\n",
              "  }\n",
              "</style>\n",
              "\n",
              "    <script>\n",
              "      async function quickchart(key) {\n",
              "        const containerElement = document.querySelector('#' + key);\n",
              "        const charts = await google.colab.kernel.invokeFunction(\n",
              "            'suggestCharts', [key], {});\n",
              "      }\n",
              "    </script>\n",
              "\n",
              "      <script>\n",
              "\n",
              "function displayQuickchartButton(domScope) {\n",
              "  let quickchartButtonEl =\n",
              "    domScope.querySelector('#df-c255bde6-ad6c-4caa-927e-c7dbe40ffb90 button.colab-df-quickchart');\n",
              "  quickchartButtonEl.style.display =\n",
              "    google.colab.kernel.accessAllowed ? 'block' : 'none';\n",
              "}\n",
              "\n",
              "        displayQuickchartButton(document);\n",
              "      </script>\n",
              "      <style>\n",
              "    .colab-df-container {\n",
              "      display:flex;\n",
              "      flex-wrap:wrap;\n",
              "      gap: 12px;\n",
              "    }\n",
              "\n",
              "    .colab-df-convert {\n",
              "      background-color: #E8F0FE;\n",
              "      border: none;\n",
              "      border-radius: 50%;\n",
              "      cursor: pointer;\n",
              "      display: none;\n",
              "      fill: #1967D2;\n",
              "      height: 32px;\n",
              "      padding: 0 0 0 0;\n",
              "      width: 32px;\n",
              "    }\n",
              "\n",
              "    .colab-df-convert:hover {\n",
              "      background-color: #E2EBFA;\n",
              "      box-shadow: 0px 1px 2px rgba(60, 64, 67, 0.3), 0px 1px 3px 1px rgba(60, 64, 67, 0.15);\n",
              "      fill: #174EA6;\n",
              "    }\n",
              "\n",
              "    [theme=dark] .colab-df-convert {\n",
              "      background-color: #3B4455;\n",
              "      fill: #D2E3FC;\n",
              "    }\n",
              "\n",
              "    [theme=dark] .colab-df-convert:hover {\n",
              "      background-color: #434B5C;\n",
              "      box-shadow: 0px 1px 3px 1px rgba(0, 0, 0, 0.15);\n",
              "      filter: drop-shadow(0px 1px 2px rgba(0, 0, 0, 0.3));\n",
              "      fill: #FFFFFF;\n",
              "    }\n",
              "  </style>\n",
              "\n",
              "      <script>\n",
              "        const buttonEl =\n",
              "          document.querySelector('#df-7617b2e4-1088-4130-bae4-93586d921423 button.colab-df-convert');\n",
              "        buttonEl.style.display =\n",
              "          google.colab.kernel.accessAllowed ? 'block' : 'none';\n",
              "\n",
              "        async function convertToInteractive(key) {\n",
              "          const element = document.querySelector('#df-7617b2e4-1088-4130-bae4-93586d921423');\n",
              "          const dataTable =\n",
              "            await google.colab.kernel.invokeFunction('convertToInteractive',\n",
              "                                                     [key], {});\n",
              "          if (!dataTable) return;\n",
              "\n",
              "          const docLinkHtml = 'Like what you see? Visit the ' +\n",
              "            '<a target=\"_blank\" href=https://colab.research.google.com/notebooks/data_table.ipynb>data table notebook</a>'\n",
              "            + ' to learn more about interactive tables.';\n",
              "          element.innerHTML = '';\n",
              "          dataTable['output_type'] = 'display_data';\n",
              "          await google.colab.output.renderOutput(dataTable, element);\n",
              "          const docLink = document.createElement('div');\n",
              "          docLink.innerHTML = docLinkHtml;\n",
              "          element.appendChild(docLink);\n",
              "        }\n",
              "      </script>\n",
              "    </div>\n",
              "  </div>\n"
            ]
          },
          "metadata": {},
          "execution_count": 4
        }
      ]
    },
    {
      "cell_type": "code",
      "source": [
        "# Handling missing data\n",
        "from sklearn.impute import SimpleImputer\n",
        "imp = SimpleImputer(strategy='most_frequent')  # Imputer instance with most frequent strategy\n",
        "df['director'] = imp.fit_transform(df[['director']])  # Imputing missing values in 'director' column\n",
        "df.dropna(inplace=True)  # Dropping rows with any missing values\n",
        "df.isna().sum()  # Checking if there are any remaining missing values"
      ],
      "metadata": {
        "colab": {
          "base_uri": "https://localhost:8080/"
        },
        "id": "UrKxBOLFnfXF",
        "outputId": "1ef8592c-7b99-4979-a79b-5950a37714c6"
      },
      "execution_count": 5,
      "outputs": [
        {
          "output_type": "execute_result",
          "data": {
            "text/plain": [
              "type            0\n",
              "title           0\n",
              "director        0\n",
              "cast            0\n",
              "country         0\n",
              "release_year    0\n",
              "rating          0\n",
              "duration        0\n",
              "listed_in       0\n",
              "description     0\n",
              "dtype: int64"
            ]
          },
          "metadata": {},
          "execution_count": 5
        }
      ]
    },
    {
      "cell_type": "code",
      "source": [
        "# Display the 'duration' feature\n",
        "print(\"Duration of shows:\\n\", df.duration.head())"
      ],
      "metadata": {
        "colab": {
          "base_uri": "https://localhost:8080/"
        },
        "id": "ATlHCl-xnfVZ",
        "outputId": "98548eee-29c8-43ec-92af-f764698ed4fe"
      },
      "execution_count": 6,
      "outputs": [
        {
          "output_type": "stream",
          "name": "stdout",
          "text": [
            "Duration of shows:\n",
            " 1    2 Seasons\n",
            "4    2 Seasons\n",
            "7      125 min\n",
            "8    9 Seasons\n",
            "9      104 min\n",
            "Name: duration, dtype: object\n"
          ]
        }
      ]
    },
    {
      "cell_type": "code",
      "source": [
        "# Extract unique units in the 'duration' feature\n",
        "unique_durations = set([x[1] for x in list(df.duration.str.split())])\n",
        "print(\"Unique durations:\", unique_durations)"
      ],
      "metadata": {
        "colab": {
          "base_uri": "https://localhost:8080/"
        },
        "id": "qAz5_yPcnfQ9",
        "outputId": "c8434a17-5dcb-41be-b994-7b741e5ae77a"
      },
      "execution_count": 7,
      "outputs": [
        {
          "output_type": "stream",
          "name": "stdout",
          "text": [
            "Unique durations: {'Season', 'Seasons', 'min'}\n"
          ]
        }
      ]
    },
    {
      "cell_type": "code",
      "source": [
        "# Define a function to convert duration to minutes\n",
        "def converting_to_minutes(duration):\n",
        "    if \"Season\" in duration:\n",
        "        num_seasons = int(duration.split()[0])\n",
        "        return num_seasons * 400\n",
        "    else:\n",
        "        return int(duration.split()[0])"
      ],
      "metadata": {
        "id": "vfxnPFmcnfNe"
      },
      "execution_count": 8,
      "outputs": []
    },
    {
      "cell_type": "code",
      "source": [
        "# Apply the function to the 'duration' column\n",
        "df['duration'] = df['duration'].apply(converting_to_minutes)\n",
        "\n",
        "# Display results after converting duration to minutes\n",
        "print(\"Duration in minutes:\\n\", df['duration'])"
      ],
      "metadata": {
        "colab": {
          "base_uri": "https://localhost:8080/"
        },
        "id": "bG_jYNm7nfJf",
        "outputId": "5b95ec17-b38d-407b-acaa-5e7e9c548a62"
      },
      "execution_count": 9,
      "outputs": [
        {
          "output_type": "stream",
          "name": "stdout",
          "text": [
            "Duration in minutes:\n",
            " 1        800\n",
            "4        800\n",
            "7        125\n",
            "8       3600\n",
            "9        104\n",
            "        ... \n",
            "8801      96\n",
            "8802     158\n",
            "8804      88\n",
            "8805      88\n",
            "8806     111\n",
            "Name: duration, Length: 7299, dtype: int64\n"
          ]
        }
      ]
    },
    {
      "cell_type": "code",
      "source": [
        "# Split data into features (X) and target (title)\n",
        "X = df.drop('title', axis=1)\n",
        "title = df['title']"
      ],
      "metadata": {
        "id": "9vVQw8GpnfH0"
      },
      "execution_count": 10,
      "outputs": []
    },
    {
      "cell_type": "code",
      "source": [
        "# Import necessary preprocessing modules\n",
        "from sklearn.preprocessing import OneHotEncoder, MinMaxScaler\n",
        "from sklearn.feature_extraction.text import CountVectorizer\n",
        "from sklearn.compose import make_column_transformer"
      ],
      "metadata": {
        "id": "na_26uKSnfBa"
      },
      "execution_count": 11,
      "outputs": []
    },
    {
      "cell_type": "code",
      "source": [
        "# Create instances of preprocessing classes\n",
        "mms = MinMaxScaler()\n",
        "ohe = OneHotEncoder(drop='first')\n",
        "ctv = CountVectorizer()\n",
        "\n",
        "# Create a preprocessing pipeline using make_column_transformer\n",
        "preprocessor = make_column_transformer(\n",
        "    (mms, ['release_year']),\n",
        "    (mms, ['duration']),\n",
        "    (ohe, ['type', 'director', 'rating']),\n",
        "    (ctv, 'country'),\n",
        "    (ctv, 'listed_in')\n",
        ")"
      ],
      "metadata": {
        "id": "sga59h_qne_Y"
      },
      "execution_count": 12,
      "outputs": []
    },
    {
      "cell_type": "code",
      "source": [
        "# Apply preprocessing to the features\n",
        "X_processed = preprocessor.fit_transform(X)\n",
        "\n",
        "# Convert the sparse matrix to a dense array\n",
        "X_processed = X_processed.toarray()"
      ],
      "metadata": {
        "id": "Le-ViHBVne49"
      },
      "execution_count": 13,
      "outputs": []
    },
    {
      "cell_type": "code",
      "source": [
        "# Install keras-tuner library\n",
        "!pip install keras-tuner"
      ],
      "metadata": {
        "colab": {
          "base_uri": "https://localhost:8080/"
        },
        "id": "iqtXN1kcne3M",
        "outputId": "fd194eb0-42f5-4cd2-da6e-8c4064ebda88"
      },
      "execution_count": 14,
      "outputs": [
        {
          "output_type": "stream",
          "name": "stdout",
          "text": [
            "Collecting keras-tuner\n",
            "  Downloading keras_tuner-1.3.5-py3-none-any.whl (176 kB)\n",
            "\u001b[?25l     \u001b[90m━━━━━━━━━━━━━━━━━━━━━━━━━━━━━━━━━━━━━━━━\u001b[0m \u001b[32m0.0/176.1 kB\u001b[0m \u001b[31m?\u001b[0m eta \u001b[36m-:--:--\u001b[0m\r\u001b[2K     \u001b[91m━━━━━━━━━━━━━━━━━━━━\u001b[0m\u001b[91m╸\u001b[0m\u001b[90m━━━━━━━━━━━━━━━━━━━\u001b[0m \u001b[32m92.2/176.1 kB\u001b[0m \u001b[31m2.6 MB/s\u001b[0m eta \u001b[36m0:00:01\u001b[0m\r\u001b[2K     \u001b[90m━━━━━━━━━━━━━━━━━━━━━━━━━━━━━━━━━━━━━━━\u001b[0m \u001b[32m176.1/176.1 kB\u001b[0m \u001b[31m3.2 MB/s\u001b[0m eta \u001b[36m0:00:00\u001b[0m\n",
            "\u001b[?25hRequirement already satisfied: packaging in /usr/local/lib/python3.10/dist-packages (from keras-tuner) (23.1)\n",
            "Requirement already satisfied: requests in /usr/local/lib/python3.10/dist-packages (from keras-tuner) (2.31.0)\n",
            "Collecting kt-legacy (from keras-tuner)\n",
            "  Downloading kt_legacy-1.0.5-py3-none-any.whl (9.6 kB)\n",
            "Requirement already satisfied: charset-normalizer<4,>=2 in /usr/local/lib/python3.10/dist-packages (from requests->keras-tuner) (3.2.0)\n",
            "Requirement already satisfied: idna<4,>=2.5 in /usr/local/lib/python3.10/dist-packages (from requests->keras-tuner) (3.4)\n",
            "Requirement already satisfied: urllib3<3,>=1.21.1 in /usr/local/lib/python3.10/dist-packages (from requests->keras-tuner) (1.26.16)\n",
            "Requirement already satisfied: certifi>=2017.4.17 in /usr/local/lib/python3.10/dist-packages (from requests->keras-tuner) (2023.7.22)\n",
            "Installing collected packages: kt-legacy, keras-tuner\n",
            "Successfully installed keras-tuner-1.3.5 kt-legacy-1.0.5\n"
          ]
        }
      ]
    },
    {
      "cell_type": "code",
      "source": [
        "# Import necessary modules for building and training models\n",
        "from keras.metrics import cosine_similarity\n",
        "from keras.layers import Input, Dense\n",
        "from keras.models import Model\n",
        "import tensorflow as tf"
      ],
      "metadata": {
        "id": "XrswRlw2xank"
      },
      "execution_count": 15,
      "outputs": []
    },
    {
      "cell_type": "code",
      "source": [
        "# Define a metric for testing the accuracy of reconstructed features\n",
        "def cosine_similarity_metric(y_true, y_pred):\n",
        "    return tf.reduce_mean(cosine_similarity(y_true, y_pred))"
      ],
      "metadata": {
        "id": "fFKmNPKrxaZc"
      },
      "execution_count": 16,
      "outputs": []
    },
    {
      "cell_type": "code",
      "source": [
        "# Function for building different models using keras_tuner\n",
        "def build_model(hp):\n",
        "    input_shape = X_processed.shape[1]\n",
        "    input_layer = Input(shape=(input_shape,))\n",
        "\n",
        "    # Hyperparameters for model architecture\n",
        "    outer_units = hp.Int('outer_units', min_value=128, max_value=256, step=64)\n",
        "    inner_units = hp.Int('inner_units', min_value=32, max_value=128, step=32)\n",
        "    bottleneck = hp.Int('bottleneck', min_value=8, max_value=32, step=8)\n",
        "\n",
        "    # Build the model architecture\n",
        "    hidden_layer1 = Dense(units=outer_units, activation='relu')(input_layer)\n",
        "    hidden_layer2 = Dense(units=inner_units, activation='relu')(hidden_layer1)\n",
        "    hidden_layer3 = Dense(units=bottleneck, activation='relu')(hidden_layer2)\n",
        "    hidden_layer4 = Dense(units=inner_units, activation='relu')(hidden_layer3)\n",
        "    hidden_layer5 = Dense(units=outer_units, activation='relu')(hidden_layer4)\n",
        "    output_layer = Dense(units=input_shape, activation='sigmoid')(hidden_layer5)\n",
        "\n",
        "    model = Model(inputs=input_layer, outputs=output_layer)\n",
        "    model.compile(optimizer='adam', loss='mse', metrics=[cosine_similarity_metric])\n",
        "    return model"
      ],
      "metadata": {
        "id": "ezxU2M4UxaXt"
      },
      "execution_count": 17,
      "outputs": []
    },
    {
      "cell_type": "code",
      "source": [
        "# Import BayesianOptimization from keras_tuner\n",
        "from keras_tuner import BayesianOptimization\n",
        "\n",
        "# Create a BayesianOptimization instance for model tuning\n",
        "tuner = BayesianOptimization(\n",
        "    build_model,\n",
        "    objective='val_loss',  # Objective to minimize\n",
        "    max_trials=5,           # Number of different architectures to try\n",
        "    executions_per_trial=2) # Number of repeats for each architecture\n",
        "\n",
        "# Information about what space of parameters are search for\n",
        "tuner.search_space_summary()"
      ],
      "metadata": {
        "colab": {
          "base_uri": "https://localhost:8080/"
        },
        "id": "qAJr_V9hxaSY",
        "outputId": "a94ae2d5-5c20-4065-8fb7-b86fbb0bd56b"
      },
      "execution_count": 18,
      "outputs": [
        {
          "output_type": "stream",
          "name": "stdout",
          "text": [
            "Search space summary\n",
            "Default search space size: 3\n",
            "outer_units (Int)\n",
            "{'default': None, 'conditions': [], 'min_value': 128, 'max_value': 256, 'step': 64, 'sampling': 'linear'}\n",
            "inner_units (Int)\n",
            "{'default': None, 'conditions': [], 'min_value': 32, 'max_value': 128, 'step': 32, 'sampling': 'linear'}\n",
            "bottleneck (Int)\n",
            "{'default': None, 'conditions': [], 'min_value': 8, 'max_value': 32, 'step': 8, 'sampling': 'linear'}\n"
          ]
        }
      ]
    },
    {
      "cell_type": "code",
      "source": [
        "# Running BayesianOptimization tuner\n",
        "tuner.search(X_processed, X_processed, validation_split=0.2, epochs=20, batch_size=32, verbose=1)"
      ],
      "metadata": {
        "colab": {
          "base_uri": "https://localhost:8080/"
        },
        "id": "Fq5SfZznxaQr",
        "outputId": "d33c46a1-2ff6-40a6-f351-87bf86641c81"
      },
      "execution_count": 19,
      "outputs": [
        {
          "output_type": "stream",
          "name": "stdout",
          "text": [
            "Trial 5 Complete [00h 02m 43s]\n",
            "val_loss: 0.0009199861960951239\n",
            "\n",
            "Best val_loss So Far: 0.0009199861960951239\n",
            "Total elapsed time: 00h 19m 16s\n"
          ]
        }
      ]
    },
    {
      "cell_type": "code",
      "source": [
        "# Import plot_model for visualizing the best model\n",
        "from tensorflow.keras.utils import plot_model\n",
        "\n",
        "# Load the best model architecture from the tuner\n",
        "autoencoder = tuner.get_best_models(num_models=1)[0]\n",
        "\n",
        "# Display a graphical representation of the best model\n",
        "plot_model(autoencoder, show_shapes=True, show_layer_activations=True)"
      ],
      "metadata": {
        "colab": {
          "base_uri": "https://localhost:8080/",
          "height": 754
        },
        "id": "2R6t5VoXxaLm",
        "outputId": "ef4e94e1-cc62-4d2e-f66b-224086caa25e"
      },
      "execution_count": 20,
      "outputs": [
        {
          "output_type": "execute_result",
          "data": {
            "image/png": "[encoded data removed]",
            "text/plain": [
              "<IPython.core.display.Image object>"
            ]
          },
          "metadata": {},
          "execution_count": 20
        }
      ]
    },
    {
      "cell_type": "code",
      "source": [
        "# Training best architecture\n",
        "history = autoencoder.fit(X_processed, X_processed, epochs=50)"
      ],
      "metadata": {
        "colab": {
          "base_uri": "https://localhost:8080/"
        },
        "id": "HaJLs4HVxaJ0",
        "outputId": "927b4bd4-ac88-4062-db5d-aca8de0975c7"
      },
      "execution_count": 21,
      "outputs": [
        {
          "output_type": "stream",
          "name": "stdout",
          "text": [
            "Epoch 1/50\n",
            "229/229 [==============================] - 5s 18ms/step - loss: 8.8612e-04 - cosine_similarity_metric: 0.8263\n",
            "Epoch 2/50\n",
            "229/229 [==============================] - 5s 23ms/step - loss: 8.6285e-04 - cosine_similarity_metric: 0.8325\n",
            "Epoch 3/50\n",
            "229/229 [==============================] - 4s 18ms/step - loss: 8.4000e-04 - cosine_similarity_metric: 0.8386\n",
            "Epoch 4/50\n",
            "229/229 [==============================] - 4s 17ms/step - loss: 8.1551e-04 - cosine_similarity_metric: 0.8452\n",
            "Epoch 5/50\n",
            "229/229 [==============================] - 5s 24ms/step - loss: 8.0069e-04 - cosine_similarity_metric: 0.8491\n",
            "Epoch 6/50\n",
            "229/229 [==============================] - 4s 18ms/step - loss: 7.8452e-04 - cosine_similarity_metric: 0.8530\n",
            "Epoch 7/50\n",
            "229/229 [==============================] - 4s 18ms/step - loss: 7.7545e-04 - cosine_similarity_metric: 0.8546\n",
            "Epoch 8/50\n",
            "229/229 [==============================] - 5s 23ms/step - loss: 7.6139e-04 - cosine_similarity_metric: 0.8584\n",
            "Epoch 9/50\n",
            "229/229 [==============================] - 4s 17ms/step - loss: 7.4873e-04 - cosine_similarity_metric: 0.8611\n",
            "Epoch 10/50\n",
            "229/229 [==============================] - 4s 19ms/step - loss: 7.4126e-04 - cosine_similarity_metric: 0.8624\n",
            "Epoch 11/50\n",
            "229/229 [==============================] - 5s 23ms/step - loss: 7.3530e-04 - cosine_similarity_metric: 0.8637\n",
            "Epoch 12/50\n",
            "229/229 [==============================] - 4s 18ms/step - loss: 7.3229e-04 - cosine_similarity_metric: 0.8645\n",
            "Epoch 13/50\n",
            "229/229 [==============================] - 4s 18ms/step - loss: 7.2893e-04 - cosine_similarity_metric: 0.8653\n",
            "Epoch 14/50\n",
            "229/229 [==============================] - 5s 23ms/step - loss: 7.2685e-04 - cosine_similarity_metric: 0.8657\n",
            "Epoch 15/50\n",
            "229/229 [==============================] - 4s 18ms/step - loss: 7.2468e-04 - cosine_similarity_metric: 0.8666\n",
            "Epoch 16/50\n",
            "229/229 [==============================] - 4s 18ms/step - loss: 7.2314e-04 - cosine_similarity_metric: 0.8668\n",
            "Epoch 17/50\n",
            "229/229 [==============================] - 5s 23ms/step - loss: 7.1916e-04 - cosine_similarity_metric: 0.8677\n",
            "Epoch 18/50\n",
            "229/229 [==============================] - 4s 18ms/step - loss: 7.2289e-04 - cosine_similarity_metric: 0.8669\n",
            "Epoch 19/50\n",
            "229/229 [==============================] - 4s 18ms/step - loss: 7.1630e-04 - cosine_similarity_metric: 0.8685\n",
            "Epoch 20/50\n",
            "229/229 [==============================] - 5s 23ms/step - loss: 7.1192e-04 - cosine_similarity_metric: 0.8694\n",
            "Epoch 21/50\n",
            "229/229 [==============================] - 4s 18ms/step - loss: 7.0968e-04 - cosine_similarity_metric: 0.8702\n",
            "Epoch 22/50\n",
            "229/229 [==============================] - 4s 19ms/step - loss: 7.0813e-04 - cosine_similarity_metric: 0.8705\n",
            "Epoch 23/50\n",
            "229/229 [==============================] - 5s 22ms/step - loss: 7.0879e-04 - cosine_similarity_metric: 0.8700\n",
            "Epoch 24/50\n",
            "229/229 [==============================] - 4s 19ms/step - loss: 7.0759e-04 - cosine_similarity_metric: 0.8705\n",
            "Epoch 25/50\n",
            "229/229 [==============================] - 5s 21ms/step - loss: 7.0571e-04 - cosine_similarity_metric: 0.8710\n",
            "Epoch 26/50\n",
            "229/229 [==============================] - 5s 20ms/step - loss: 7.0875e-04 - cosine_similarity_metric: 0.8700\n",
            "Epoch 27/50\n",
            "229/229 [==============================] - 4s 19ms/step - loss: 7.0325e-04 - cosine_similarity_metric: 0.8714\n",
            "Epoch 28/50\n",
            "229/229 [==============================] - 5s 22ms/step - loss: 7.0244e-04 - cosine_similarity_metric: 0.8717\n",
            "Epoch 29/50\n",
            "229/229 [==============================] - 4s 18ms/step - loss: 6.9849e-04 - cosine_similarity_metric: 0.8725\n",
            "Epoch 30/50\n",
            "229/229 [==============================] - 4s 18ms/step - loss: 6.9453e-04 - cosine_similarity_metric: 0.8736\n",
            "Epoch 31/50\n",
            "229/229 [==============================] - 5s 23ms/step - loss: 6.9702e-04 - cosine_similarity_metric: 0.8729\n",
            "Epoch 32/50\n",
            "229/229 [==============================] - 4s 18ms/step - loss: 6.9385e-04 - cosine_similarity_metric: 0.8732\n",
            "Epoch 33/50\n",
            "229/229 [==============================] - 4s 18ms/step - loss: 6.9230e-04 - cosine_similarity_metric: 0.8739\n",
            "Epoch 34/50\n",
            "229/229 [==============================] - 5s 23ms/step - loss: 6.9298e-04 - cosine_similarity_metric: 0.8739\n",
            "Epoch 35/50\n",
            "229/229 [==============================] - 4s 18ms/step - loss: 6.9159e-04 - cosine_similarity_metric: 0.8738\n",
            "Epoch 36/50\n",
            "229/229 [==============================] - 4s 18ms/step - loss: 6.8653e-04 - cosine_similarity_metric: 0.8746\n",
            "Epoch 37/50\n",
            "229/229 [==============================] - 6s 28ms/step - loss: 6.8607e-04 - cosine_similarity_metric: 0.8748\n",
            "Epoch 38/50\n",
            "229/229 [==============================] - 4s 19ms/step - loss: 6.8367e-04 - cosine_similarity_metric: 0.8755\n",
            "Epoch 39/50\n",
            "229/229 [==============================] - 4s 18ms/step - loss: 6.8382e-04 - cosine_similarity_metric: 0.8754\n",
            "Epoch 40/50\n",
            "229/229 [==============================] - 5s 23ms/step - loss: 6.8299e-04 - cosine_similarity_metric: 0.8754\n",
            "Epoch 41/50\n",
            "229/229 [==============================] - 4s 18ms/step - loss: 6.8184e-04 - cosine_similarity_metric: 0.8753\n",
            "Epoch 42/50\n",
            "229/229 [==============================] - 4s 18ms/step - loss: 6.9074e-04 - cosine_similarity_metric: 0.8738\n",
            "Epoch 43/50\n",
            "229/229 [==============================] - 5s 23ms/step - loss: 6.8232e-04 - cosine_similarity_metric: 0.8753\n",
            "Epoch 44/50\n",
            "229/229 [==============================] - 4s 19ms/step - loss: 6.8265e-04 - cosine_similarity_metric: 0.8753\n",
            "Epoch 45/50\n",
            "229/229 [==============================] - 4s 18ms/step - loss: 6.8191e-04 - cosine_similarity_metric: 0.8756\n",
            "Epoch 46/50\n",
            "229/229 [==============================] - 5s 23ms/step - loss: 6.7692e-04 - cosine_similarity_metric: 0.8768\n",
            "Epoch 47/50\n",
            "229/229 [==============================] - 4s 18ms/step - loss: 6.7919e-04 - cosine_similarity_metric: 0.8761\n",
            "Epoch 48/50\n",
            "229/229 [==============================] - 4s 18ms/step - loss: 6.7651e-04 - cosine_similarity_metric: 0.8767\n",
            "Epoch 49/50\n",
            "229/229 [==============================] - 5s 23ms/step - loss: 6.7946e-04 - cosine_similarity_metric: 0.8765\n",
            "Epoch 50/50\n",
            "229/229 [==============================] - 4s 18ms/step - loss: 6.7859e-04 - cosine_similarity_metric: 0.8764\n"
          ]
        }
      ]
    },
    {
      "cell_type": "code",
      "source": [
        "# Plotting loss\n",
        "plt.plot(history.history['loss'], label='loss')\n",
        "plt.title('Loss')\n",
        "plt.xlabel('Epochs')\n",
        "plt.ylabel('Value')\n",
        "plt.legend()\n",
        "plt.show()"
      ],
      "metadata": {
        "colab": {
          "base_uri": "https://localhost:8080/",
          "height": 472
        },
        "id": "JZgY2kJPx6XY",
        "outputId": "5e75a25a-784d-4040-d363-427313d1834c"
      },
      "execution_count": 22,
      "outputs": [
        {
          "output_type": "display_data",
          "data": {
            "text/plain": [
              "<Figure size 640x480 with 1 Axes>"
            ],
            "image/png": "[encoded data removed]"
          },
          "metadata": {}
        }
      ]
    },
    {
      "cell_type": "code",
      "source": [
        "# Plotting cosine_similarity_metric\n",
        "plt.plot(history.history['cosine_similarity_metric'], label='Accuracy of Reconstruction')\n",
        "plt.title('Similarity')\n",
        "plt.xlabel('Epochs')\n",
        "plt.ylabel('Value')\n",
        "plt.legend()\n",
        "plt.show()"
      ],
      "metadata": {
        "colab": {
          "base_uri": "https://localhost:8080/",
          "height": 472
        },
        "id": "Uh20_Txrx6U8",
        "outputId": "43cdfd9c-bf3f-4b5d-9193-8c223abef208"
      },
      "execution_count": 23,
      "outputs": [
        {
          "output_type": "display_data",
          "data": {
            "text/plain": [
              "<Figure size 640x480 with 1 Axes>"
            ],
            "image/png": "[encoded data removed]"
          },
          "metadata": {}
        }
      ]
    },
    {
      "cell_type": "code",
      "source": [
        "# Choosing a movie\n",
        "movie = \"Jaws\"\n",
        "\n",
        "# Getting index of a movie\n",
        "movie_index = title.index[title == movie][0]\n",
        "\n",
        "# Getting features of that movie\n",
        "movie_features = X_processed[movie_index]\n",
        "\n",
        "movie_features"
      ],
      "metadata": {
        "colab": {
          "base_uri": "https://localhost:8080/"
        },
        "id": "SRQ6MPe3x6Qx",
        "outputId": "e0c2768a-1458-45b3-ca7e-dbebb3da671f"
      },
      "execution_count": 28,
      "outputs": [
        {
          "output_type": "execute_result",
          "data": {
            "text/plain": [
              "array([0.65822785, 0.52885748, 1.        , ..., 0.        , 2.        ,\n",
              "       0.        ])"
            ]
          },
          "metadata": {},
          "execution_count": 28
        }
      ]
    },
    {
      "cell_type": "code",
      "source": [
        "from sklearn.metrics.pairwise import cosine_similarity\n",
        "\n",
        "# How many movies to recomend\n",
        "N_movies = 10\n",
        "\n",
        "# Generating reconstruction of features using autoencoder\n",
        "reconstructed_movie = autoencoder.predict(np.array([movie_features]))[0]"
      ],
      "metadata": {
        "colab": {
          "base_uri": "https://localhost:8080/"
        },
        "id": "OrpJS3gZ6prv",
        "outputId": "cc83aabd-e8ac-4aca-de73-857469f6cd20"
      },
      "execution_count": 29,
      "outputs": [
        {
          "output_type": "stream",
          "name": "stdout",
          "text": [
            "1/1 [==============================] - 0s 32ms/step\n"
          ]
        }
      ]
    },
    {
      "cell_type": "code",
      "source": [
        "# Comparing chosen movie to the rest\n",
        "similarities = cosine_similarity(X_processed, [reconstructed_movie])\n",
        "similarities[movie_index] = -1  # Making sure the original movie will not be recommended\n",
        "most_similar_indices = np.argsort(similarities, axis=0)[::-1][:N_movies]  # Getting Indexes of 10 most similar movies"
      ],
      "metadata": {
        "id": "CMw73tO-x6Ns"
      },
      "execution_count": 30,
      "outputs": []
    },
    {
      "cell_type": "code",
      "source": [
        "# Printing recommended movies\n",
        "for recommended_movie in most_similar_indices:\n",
        "    print(*title.values[recommended_movie])"
      ],
      "metadata": {
        "colab": {
          "base_uri": "https://localhost:8080/"
        },
        "id": "qvlsZDvnx6Kd",
        "outputId": "fb016ae9-d0d9-4b77-f858-a875ae32ceab"
      },
      "execution_count": 31,
      "outputs": [
        {
          "output_type": "stream",
          "name": "stdout",
          "text": [
            "Family Reunion\n",
            "Team Kaylie\n",
            "Best.Worst.Weekend.Ever.\n",
            "The Who Was? Show\n",
            "Sam & Cat\n",
            "DreamWorks Holiday Classics\n",
            "DreamWorks Spooky Stories\n",
            "DreamWorks Happy Holidays from Madagascar\n",
            "One Day at a Time\n",
            "Man with a Plan\n"
          ]
        }
      ]
    },
    {
      "cell_type": "code",
      "source": [],
      "metadata": {
        "id": "mS94jA6Cx6IG"
      },
      "execution_count": 31,
      "outputs": []
    }
  ]
}